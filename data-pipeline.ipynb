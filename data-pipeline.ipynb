{
 "cells": [
  {
   "cell_type": "code",
   "execution_count": 2,
   "metadata": {},
   "outputs": [
    {
     "name": "stderr",
     "output_type": "stream",
     "text": [
      "C:\\Users\\HomePC\\AppData\\Local\\Packages\\PythonSoftwareFoundation.Python.3.12_qbz5n2kfra8p0\\LocalCache\\local-packages\\Python312\\site-packages\\tqdm\\auto.py:21: TqdmWarning: IProgress not found. Please update jupyter and ipywidgets. See https://ipywidgets.readthedocs.io/en/stable/user_install.html\n",
      "  from .autonotebook import tqdm as notebook_tqdm\n"
     ]
    },
    {
     "name": "stdout",
     "output_type": "stream",
     "text": [
      "Downloading from https://www.kaggle.com/api/v1/datasets/download/aadyasingh55/impact-of-social-media-on-suicide-rates?dataset_version_number=1...\n"
     ]
    },
    {
     "name": "stderr",
     "output_type": "stream",
     "text": [
      "100%|██████████| 811/811 [00:00<00:00, 543kB/s]"
     ]
    },
    {
     "name": "stdout",
     "output_type": "stream",
     "text": [
      "Extracting files...\n"
     ]
    },
    {
     "name": "stderr",
     "output_type": "stream",
     "text": [
      "\n"
     ]
    },
    {
     "ename": "Error",
     "evalue": "Destination path 'datasets\\1' already exists",
     "output_type": "error",
     "traceback": [
      "\u001b[1;31m---------------------------------------------------------------------------\u001b[0m",
      "\u001b[1;31mError\u001b[0m                                     Traceback (most recent call last)",
      "Cell \u001b[1;32mIn[2], line 12\u001b[0m\n\u001b[0;32m      9\u001b[0m \u001b[38;5;66;03m# Move dataset to the desired folder\u001b[39;00m\n\u001b[0;32m     10\u001b[0m destination \u001b[38;5;241m=\u001b[39m os\u001b[38;5;241m.\u001b[39mpath\u001b[38;5;241m.\u001b[39mjoin(\u001b[38;5;124m\"\u001b[39m\u001b[38;5;124mdatasets\u001b[39m\u001b[38;5;124m\"\u001b[39m)\n\u001b[1;32m---> 12\u001b[0m \u001b[43mshutil\u001b[49m\u001b[38;5;241;43m.\u001b[39;49m\u001b[43mmove\u001b[49m\u001b[43m(\u001b[49m\u001b[43mpath\u001b[49m\u001b[43m,\u001b[49m\u001b[43m \u001b[49m\u001b[43mdestination\u001b[49m\u001b[43m)\u001b[49m\n\u001b[0;32m     15\u001b[0m \u001b[38;5;28mprint\u001b[39m(\u001b[38;5;124m\"\u001b[39m\u001b[38;5;124mPath to dataset files:\u001b[39m\u001b[38;5;124m\"\u001b[39m, destination)\n",
      "File \u001b[1;32mC:\\Program Files\\WindowsApps\\PythonSoftwareFoundation.Python.3.12_3.12.2032.0_x64__qbz5n2kfra8p0\\Lib\\shutil.py:845\u001b[0m, in \u001b[0;36mmove\u001b[1;34m(src, dst, copy_function)\u001b[0m\n\u001b[0;32m    842\u001b[0m     real_dst \u001b[38;5;241m=\u001b[39m os\u001b[38;5;241m.\u001b[39mpath\u001b[38;5;241m.\u001b[39mjoin(dst, _basename(src))\n\u001b[0;32m    844\u001b[0m     \u001b[38;5;28;01mif\u001b[39;00m os\u001b[38;5;241m.\u001b[39mpath\u001b[38;5;241m.\u001b[39mexists(real_dst):\n\u001b[1;32m--> 845\u001b[0m         \u001b[38;5;28;01mraise\u001b[39;00m Error(\u001b[38;5;124m\"\u001b[39m\u001b[38;5;124mDestination path \u001b[39m\u001b[38;5;124m'\u001b[39m\u001b[38;5;132;01m%s\u001b[39;00m\u001b[38;5;124m'\u001b[39m\u001b[38;5;124m already exists\u001b[39m\u001b[38;5;124m\"\u001b[39m \u001b[38;5;241m%\u001b[39m real_dst)\n\u001b[0;32m    846\u001b[0m \u001b[38;5;28;01mtry\u001b[39;00m:\n\u001b[0;32m    847\u001b[0m     os\u001b[38;5;241m.\u001b[39mrename(src, real_dst)\n",
      "\u001b[1;31mError\u001b[0m: Destination path 'datasets\\1' already exists"
     ]
    }
   ],
   "source": [
    "import kagglehub\n",
    "import shutil\n",
    "\n",
    "import os\n",
    "\n",
    "# Download latest version\n",
    "path = kagglehub.dataset_download(\"aadyasingh55/impact-of-social-media-on-suicide-rates\")\n",
    "\n",
    "# Move dataset to the desired folder\n",
    "destination = os.path.join(\"datasets\")\n",
    "\n",
    "shutil.move(path, destination)\n",
    "\n",
    "\n",
    "print(\"Path to dataset files:\", destination)"
   ]
  },
  {
   "cell_type": "code",
   "execution_count": 8,
   "metadata": {},
   "outputs": [],
   "source": [
    "import pandas as pd\n",
    "import mysql.connector\n",
    "import getpass #Import getpass to securely input the password"
   ]
  },
  {
   "cell_type": "code",
   "execution_count": 14,
   "metadata": {},
   "outputs": [
    {
     "name": "stdout",
     "output_type": "stream",
     "text": [
      "Columns in DataFrame: Index(['year', 'sex', 'Suicide Rate % change since 2010',\n",
      "       'Twitter user count % change since 2010',\n",
      "       'Facebook user count % change since 2010'],\n",
      "      dtype='object')\n"
     ]
    }
   ],
   "source": [
    "# Extract data\n",
    "def extract_data(file_path):\n",
    "    data = pd.read_csv(file_path)\n",
    "    print(\"Columns in DataFrame:\", data.columns)\n",
    "    data.columns = data.columns.str.strip()  # Strip whitespace from column names\n",
    "    return data\n",
    "\n",
    "# Transform data\n",
    "def transform_data(data):\n",
    "    # Rename columns to match the database schema\n",
    "    data.rename(columns={\n",
    "        'Suicide Rate % change since 2010': 'suicide_rate_change',\n",
    "        'Twitter user count % change since 2010': 'twitter_user_count_change',\n",
    "        'Facebook user count % change since 2010': 'facebook_user_count_change'\n",
    "    }, inplace=True)\n",
    "    return data\n",
    "\n",
    "# load data\n",
    "def load_data(data):\n",
    "    password = getpass.getpass(\"Enter your Mysql password: \")\n",
    "    # Connect to the database\n",
    "    connection = mysql.connector.connect(\n",
    "        host='localhost',\n",
    "        user='root',\n",
    "        password=password,\n",
    "        database='social_media_data'\n",
    "    )\n",
    "    \n",
    "    cursor = connection.cursor()\n",
    "    \n",
    "    # Create table if it doesn't exist\n",
    "    cursor.execute(\"\"\"\n",
    "    CREATE TABLE IF NOT EXISTS social_media_suicide_rates (\n",
    "        id INT AUTO_INCREMENT PRIMARY KEY,\n",
    "        year INT NOT NULL,\n",
    "        sex VARCHAR(10) NOT NULL,\n",
    "        suicide_rate_change FLOAT NOT NULL,\n",
    "        twitter_user_count_change FLOAT NOT NULL,\n",
    "        facebook_user_count_change FLOAT NOT NULL\n",
    "        )\n",
    "    \"\"\")\n",
    "    \n",
    "    # Insert data into the table\n",
    "    for index, row in data.iterrows():\n",
    "        cursor.execute(\"INSERT INTO social_media_suicide_rates (year, sex, suicide_rate_change, twitter_user_count_change, facebook_user_count_change) VALUES (%s, %s, %s, %s, %s)\", (row['year'], row['sex'], row['suicide_rate_change'], row['twitter_user_count_change'], row['facebook_user_count_change']))\n",
    "    \n",
    "    connection.commit()\n",
    "    cursor.close()\n",
    "    connection.close()\n",
    "#main function to run etl process\n",
    "def main():\n",
    "    file_path = './datasets/1/social-media-impact-on-suicide-rates.csv'\n",
    "\n",
    "    #execute ETL process\n",
    "    data = extract_data(file_path)\n",
    "    data = transform_data(data)\n",
    "    load_data(data)\n",
    "\n",
    "if __name__ == '__main__':\n",
    "    main()"
   ]
  }
 ],
 "metadata": {
  "kernelspec": {
   "display_name": "Python 3",
   "language": "python",
   "name": "python3"
  },
  "language_info": {
   "codemirror_mode": {
    "name": "ipython",
    "version": 3
   },
   "file_extension": ".py",
   "mimetype": "text/x-python",
   "name": "python",
   "nbconvert_exporter": "python",
   "pygments_lexer": "ipython3",
   "version": "3.12.7"
  }
 },
 "nbformat": 4,
 "nbformat_minor": 2
}
